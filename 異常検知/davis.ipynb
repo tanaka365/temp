{
 "cells": [
  {
   "cell_type": "markdown",
   "metadata": {},
   "source": [
    "# 異常検知ハンズオン"
   ]
  },
  {
   "cell_type": "code",
   "execution_count": 1,
   "metadata": {},
   "outputs": [],
   "source": [
    "import pandas as pd\n",
    "import numpy as np\n",
    "import os\n",
    "from sklearn.cluster import KMeans\n",
    "import matplotlib.pyplot as plt"
   ]
  },
  {
   "cell_type": "markdown",
   "metadata": {},
   "source": [
    "# 使用データ\n",
    "\n",
    "今回は統計解析等によく使われるRのデータセットから「Davis」というデータを使用する。\n",
    "\n",
    "このデータセットには200人分の性別、身長(実測)、体重、身長(自己申告)の4種類のデータが用意されており、その中から体重のデータを使用する事にする。\n",
    "\n",
    "https://vincentarelbundock.github.io/Rdatasets/datasets.html"
   ]
  },
  {
   "cell_type": "code",
   "execution_count": 4,
   "metadata": {},
   "outputs": [],
   "source": [
    "current_path = current_path = os.getcwd()\n",
    "df_main = pd.read_csv(current_path+\"/./data/Davis.csv\", index_col=0)"
   ]
  },
  {
   "cell_type": "markdown",
   "metadata": {},
   "source": [
    "## 簡単なデータの確認\n",
    "\n",
    "列名\n",
    "\n",
    "- Sex: 性別\n",
    "- weight: 体重（実測）\n",
    "- height: 身長（実測）\n",
    "- repwt: 体重（申告）\n",
    "- repht: 身長（申告）"
   ]
  },
  {
   "cell_type": "markdown",
   "metadata": {},
   "source": [
    "### データの全貌"
   ]
  },
  {
   "cell_type": "code",
   "execution_count": 6,
   "metadata": {},
   "outputs": [
    {
     "data": {
      "text/html": [
       "<div>\n",
       "<style scoped>\n",
       "    .dataframe tbody tr th:only-of-type {\n",
       "        vertical-align: middle;\n",
       "    }\n",
       "\n",
       "    .dataframe tbody tr th {\n",
       "        vertical-align: top;\n",
       "    }\n",
       "\n",
       "    .dataframe thead th {\n",
       "        text-align: right;\n",
       "    }\n",
       "</style>\n",
       "<table border=\"1\" class=\"dataframe\">\n",
       "  <thead>\n",
       "    <tr style=\"text-align: right;\">\n",
       "      <th></th>\n",
       "      <th>sex</th>\n",
       "      <th>weight</th>\n",
       "      <th>height</th>\n",
       "      <th>repwt</th>\n",
       "      <th>repht</th>\n",
       "    </tr>\n",
       "  </thead>\n",
       "  <tbody>\n",
       "    <tr>\n",
       "      <th>1</th>\n",
       "      <td>M</td>\n",
       "      <td>77</td>\n",
       "      <td>182</td>\n",
       "      <td>77.0</td>\n",
       "      <td>180.0</td>\n",
       "    </tr>\n",
       "    <tr>\n",
       "      <th>2</th>\n",
       "      <td>F</td>\n",
       "      <td>58</td>\n",
       "      <td>161</td>\n",
       "      <td>51.0</td>\n",
       "      <td>159.0</td>\n",
       "    </tr>\n",
       "    <tr>\n",
       "      <th>3</th>\n",
       "      <td>F</td>\n",
       "      <td>53</td>\n",
       "      <td>161</td>\n",
       "      <td>54.0</td>\n",
       "      <td>158.0</td>\n",
       "    </tr>\n",
       "    <tr>\n",
       "      <th>4</th>\n",
       "      <td>M</td>\n",
       "      <td>68</td>\n",
       "      <td>177</td>\n",
       "      <td>70.0</td>\n",
       "      <td>175.0</td>\n",
       "    </tr>\n",
       "    <tr>\n",
       "      <th>5</th>\n",
       "      <td>F</td>\n",
       "      <td>59</td>\n",
       "      <td>157</td>\n",
       "      <td>59.0</td>\n",
       "      <td>155.0</td>\n",
       "    </tr>\n",
       "    <tr>\n",
       "      <th>6</th>\n",
       "      <td>M</td>\n",
       "      <td>76</td>\n",
       "      <td>170</td>\n",
       "      <td>76.0</td>\n",
       "      <td>165.0</td>\n",
       "    </tr>\n",
       "    <tr>\n",
       "      <th>7</th>\n",
       "      <td>M</td>\n",
       "      <td>76</td>\n",
       "      <td>167</td>\n",
       "      <td>77.0</td>\n",
       "      <td>165.0</td>\n",
       "    </tr>\n",
       "    <tr>\n",
       "      <th>8</th>\n",
       "      <td>M</td>\n",
       "      <td>69</td>\n",
       "      <td>186</td>\n",
       "      <td>73.0</td>\n",
       "      <td>180.0</td>\n",
       "    </tr>\n",
       "    <tr>\n",
       "      <th>9</th>\n",
       "      <td>M</td>\n",
       "      <td>71</td>\n",
       "      <td>178</td>\n",
       "      <td>71.0</td>\n",
       "      <td>175.0</td>\n",
       "    </tr>\n",
       "    <tr>\n",
       "      <th>10</th>\n",
       "      <td>M</td>\n",
       "      <td>65</td>\n",
       "      <td>171</td>\n",
       "      <td>64.0</td>\n",
       "      <td>170.0</td>\n",
       "    </tr>\n",
       "    <tr>\n",
       "      <th>11</th>\n",
       "      <td>M</td>\n",
       "      <td>70</td>\n",
       "      <td>175</td>\n",
       "      <td>75.0</td>\n",
       "      <td>174.0</td>\n",
       "    </tr>\n",
       "    <tr>\n",
       "      <th>12</th>\n",
       "      <td>F</td>\n",
       "      <td>166</td>\n",
       "      <td>57</td>\n",
       "      <td>56.0</td>\n",
       "      <td>163.0</td>\n",
       "    </tr>\n",
       "    <tr>\n",
       "      <th>13</th>\n",
       "      <td>F</td>\n",
       "      <td>51</td>\n",
       "      <td>161</td>\n",
       "      <td>52.0</td>\n",
       "      <td>158.0</td>\n",
       "    </tr>\n",
       "    <tr>\n",
       "      <th>14</th>\n",
       "      <td>F</td>\n",
       "      <td>64</td>\n",
       "      <td>168</td>\n",
       "      <td>64.0</td>\n",
       "      <td>165.0</td>\n",
       "    </tr>\n",
       "    <tr>\n",
       "      <th>15</th>\n",
       "      <td>F</td>\n",
       "      <td>52</td>\n",
       "      <td>163</td>\n",
       "      <td>57.0</td>\n",
       "      <td>160.0</td>\n",
       "    </tr>\n",
       "    <tr>\n",
       "      <th>16</th>\n",
       "      <td>F</td>\n",
       "      <td>65</td>\n",
       "      <td>166</td>\n",
       "      <td>66.0</td>\n",
       "      <td>165.0</td>\n",
       "    </tr>\n",
       "    <tr>\n",
       "      <th>17</th>\n",
       "      <td>M</td>\n",
       "      <td>92</td>\n",
       "      <td>187</td>\n",
       "      <td>101.0</td>\n",
       "      <td>185.0</td>\n",
       "    </tr>\n",
       "    <tr>\n",
       "      <th>18</th>\n",
       "      <td>F</td>\n",
       "      <td>62</td>\n",
       "      <td>168</td>\n",
       "      <td>62.0</td>\n",
       "      <td>165.0</td>\n",
       "    </tr>\n",
       "    <tr>\n",
       "      <th>19</th>\n",
       "      <td>M</td>\n",
       "      <td>76</td>\n",
       "      <td>197</td>\n",
       "      <td>75.0</td>\n",
       "      <td>200.0</td>\n",
       "    </tr>\n",
       "    <tr>\n",
       "      <th>20</th>\n",
       "      <td>F</td>\n",
       "      <td>61</td>\n",
       "      <td>175</td>\n",
       "      <td>61.0</td>\n",
       "      <td>171.0</td>\n",
       "    </tr>\n",
       "  </tbody>\n",
       "</table>\n",
       "</div>"
      ],
      "text/plain": [
       "   sex  weight  height  repwt  repht\n",
       "1    M      77     182   77.0  180.0\n",
       "2    F      58     161   51.0  159.0\n",
       "3    F      53     161   54.0  158.0\n",
       "4    M      68     177   70.0  175.0\n",
       "5    F      59     157   59.0  155.0\n",
       "6    M      76     170   76.0  165.0\n",
       "7    M      76     167   77.0  165.0\n",
       "8    M      69     186   73.0  180.0\n",
       "9    M      71     178   71.0  175.0\n",
       "10   M      65     171   64.0  170.0\n",
       "11   M      70     175   75.0  174.0\n",
       "12   F     166      57   56.0  163.0\n",
       "13   F      51     161   52.0  158.0\n",
       "14   F      64     168   64.0  165.0\n",
       "15   F      52     163   57.0  160.0\n",
       "16   F      65     166   66.0  165.0\n",
       "17   M      92     187  101.0  185.0\n",
       "18   F      62     168   62.0  165.0\n",
       "19   M      76     197   75.0  200.0\n",
       "20   F      61     175   61.0  171.0"
      ]
     },
     "execution_count": 6,
     "metadata": {},
     "output_type": "execute_result"
    }
   ],
   "source": [
    "# 頭20件を確認\n",
    "df_main.head(20)"
   ]
  },
  {
   "cell_type": "code",
   "execution_count": 8,
   "metadata": {},
   "outputs": [
    {
     "name": "stdout",
     "output_type": "stream",
     "text": [
      "データの列名と型\n",
      "              0\n",
      "sex      object\n",
      "weight    int64\n",
      "height    int64\n",
      "repwt   float64\n",
      "repht   float64\n",
      "全データ数： 200\n"
     ]
    }
   ],
   "source": [
    "print(\"データの列名と型\")\n",
    "print(pd.DataFrame(df_main.dtypes, index=df_main.columns))\n",
    "print(\"全データ数：\", df_main.shape[0])"
   ]
  },
  {
   "cell_type": "markdown",
   "metadata": {},
   "source": [
    "### 基本統計量や欠損値"
   ]
  },
  {
   "cell_type": "code",
   "execution_count": 9,
   "metadata": {},
   "outputs": [
    {
     "data": {
      "text/html": [
       "<div>\n",
       "<style scoped>\n",
       "    .dataframe tbody tr th:only-of-type {\n",
       "        vertical-align: middle;\n",
       "    }\n",
       "\n",
       "    .dataframe tbody tr th {\n",
       "        vertical-align: top;\n",
       "    }\n",
       "\n",
       "    .dataframe thead th {\n",
       "        text-align: right;\n",
       "    }\n",
       "</style>\n",
       "<table border=\"1\" class=\"dataframe\">\n",
       "  <thead>\n",
       "    <tr style=\"text-align: right;\">\n",
       "      <th></th>\n",
       "      <th>weight</th>\n",
       "      <th>height</th>\n",
       "      <th>repwt</th>\n",
       "      <th>repht</th>\n",
       "    </tr>\n",
       "  </thead>\n",
       "  <tbody>\n",
       "    <tr>\n",
       "      <th>count</th>\n",
       "      <td>200.000000</td>\n",
       "      <td>200.000000</td>\n",
       "      <td>183.000000</td>\n",
       "      <td>183.000000</td>\n",
       "    </tr>\n",
       "    <tr>\n",
       "      <th>mean</th>\n",
       "      <td>65.800000</td>\n",
       "      <td>170.020000</td>\n",
       "      <td>65.622951</td>\n",
       "      <td>168.497268</td>\n",
       "    </tr>\n",
       "    <tr>\n",
       "      <th>std</th>\n",
       "      <td>15.095009</td>\n",
       "      <td>12.007937</td>\n",
       "      <td>13.776669</td>\n",
       "      <td>9.467048</td>\n",
       "    </tr>\n",
       "    <tr>\n",
       "      <th>min</th>\n",
       "      <td>39.000000</td>\n",
       "      <td>57.000000</td>\n",
       "      <td>41.000000</td>\n",
       "      <td>148.000000</td>\n",
       "    </tr>\n",
       "    <tr>\n",
       "      <th>25%</th>\n",
       "      <td>55.000000</td>\n",
       "      <td>164.000000</td>\n",
       "      <td>55.000000</td>\n",
       "      <td>160.500000</td>\n",
       "    </tr>\n",
       "    <tr>\n",
       "      <th>50%</th>\n",
       "      <td>63.000000</td>\n",
       "      <td>169.500000</td>\n",
       "      <td>63.000000</td>\n",
       "      <td>168.000000</td>\n",
       "    </tr>\n",
       "    <tr>\n",
       "      <th>75%</th>\n",
       "      <td>74.000000</td>\n",
       "      <td>177.250000</td>\n",
       "      <td>73.500000</td>\n",
       "      <td>175.000000</td>\n",
       "    </tr>\n",
       "    <tr>\n",
       "      <th>max</th>\n",
       "      <td>166.000000</td>\n",
       "      <td>197.000000</td>\n",
       "      <td>124.000000</td>\n",
       "      <td>200.000000</td>\n",
       "    </tr>\n",
       "  </tbody>\n",
       "</table>\n",
       "</div>"
      ],
      "text/plain": [
       "           weight      height       repwt       repht\n",
       "count  200.000000  200.000000  183.000000  183.000000\n",
       "mean    65.800000  170.020000   65.622951  168.497268\n",
       "std     15.095009   12.007937   13.776669    9.467048\n",
       "min     39.000000   57.000000   41.000000  148.000000\n",
       "25%     55.000000  164.000000   55.000000  160.500000\n",
       "50%     63.000000  169.500000   63.000000  168.000000\n",
       "75%     74.000000  177.250000   73.500000  175.000000\n",
       "max    166.000000  197.000000  124.000000  200.000000"
      ]
     },
     "execution_count": 9,
     "metadata": {},
     "output_type": "execute_result"
    }
   ],
   "source": [
    "df_main.describe()"
   ]
  },
  {
   "cell_type": "code",
   "execution_count": 145,
   "metadata": {},
   "outputs": [],
   "source": [
    "# 他に気になることがあれば...\n"
   ]
  },
  {
   "cell_type": "markdown",
   "metadata": {},
   "source": [
    "## 今回のタスク\n",
    "\n",
    "使用するデータの内、異常値となるデータを検知する。\n",
    "\n",
    "今回は、2.4節の「高度な特徴抽出による異常検知」を試す。\n",
    "\n",
    "簡単なステップ（詳細は2.4節を参照）\n",
    "- モデル学習\n",
    "- 異常度の算出\n",
    "- 異常度閾値の算出\n",
    "- 結果の確認"
   ]
  },
  {
   "cell_type": "code",
   "execution_count": 12,
   "metadata": {},
   "outputs": [],
   "source": [
    "X_train = df_main[[\"weight\", \"height\"]]"
   ]
  },
  {
   "cell_type": "code",
   "execution_count": 46,
   "metadata": {},
   "outputs": [
    {
     "data": {
      "image/png": "[encoded data removed]",
      "text/plain": [
       "<Figure size 432x288 with 1 Axes>"
      ]
     },
     "metadata": {
      "needs_background": "light"
     },
     "output_type": "display_data"
    }
   ],
   "source": [
    "# データの確認（異常値の確認）\n",
    "plt.plot(X_train[\"weight\"], X_train[\"height\"], \"o\", color = \"g\")\n",
    "plt.xlabel(\"weight\")\n",
    "plt.ylabel(\"height\")\n",
    "plt.show()"
   ]
  },
  {
   "cell_type": "markdown",
   "metadata": {},
   "source": [
    "### 高度な特徴抽出による異常検知（k平均法）（一例）\n",
    "\n",
    "参考書では、EM法、主成分分析、AutoEncoder、製薬付きボルツマンマシンの紹介がされていたので、\n",
    "\n",
    "この４つの手法のうち、どれかを選んで実装する。"
   ]
  },
  {
   "cell_type": "code",
   "execution_count": 41,
   "metadata": {},
   "outputs": [
    {
     "data": {
      "text/plain": [
       "KMeans(n_clusters=1, random_state=2022)"
      ]
     },
     "execution_count": 41,
     "metadata": {},
     "output_type": "execute_result"
    }
   ],
   "source": [
    "# 使用するモデルの設定\n",
    "n_clusters = 1\n",
    "model = KMeans(n_clusters=n_clusters, random_state=2022)\n",
    "# モデル学習\n",
    "model.fit(X_train)"
   ]
  },
  {
   "cell_type": "code",
   "execution_count": 42,
   "metadata": {},
   "outputs": [],
   "source": [
    "# 異常度の算出（今回はユークリッド距離を使用）\n",
    "def calc_norm(x, y):\n",
    "    return np.linalg.norm(x - y)\n",
    "\n",
    "# 必要な情報を取得\n",
    "center_points = model.cluster_centers_\n",
    "label_list = model.labels_\n",
    "\n",
    "# 計算した異常度を保存する変数\n",
    "anomaly_values = np.zeros(len(X_train))\n",
    "\n",
    "# クラスターごとに異常度を計算\n",
    "for label in range(n_clusters):\n",
    "    ix = label_list == label\n",
    "    if ix.any():\n",
    "        anomaly_values[ix] = X_train.loc[ix].apply(lambda x: calc_norm(x, center_points[label]), axis=1)\n",
    "    else:\n",
    "        pass\n"
   ]
  },
  {
   "cell_type": "code",
   "execution_count": 43,
   "metadata": {},
   "outputs": [
    {
     "name": "stdout",
     "output_type": "stream",
     "text": [
      "40.2431239893835\n"
     ]
    }
   ],
   "source": [
    "# 異常度閾値の設定\n",
    "anomaly_threshold = np.quantile(anomaly_values, q=[0.99])[0]\n",
    "print(anomaly_threshold)"
   ]
  },
  {
   "cell_type": "code",
   "execution_count": 44,
   "metadata": {},
   "outputs": [
    {
     "name": "stderr",
     "output_type": "stream",
     "text": [
      "/var/folders/3n/yms_hk792lj3t3t4jcwhfdrc0000gn/T/ipykernel_34802/1338342569.py:3: UserWarning: linestyle is redundantly defined by the 'linestyle' keyword argument and the fmt string \"k-\" (-> linestyle='-'). The keyword argument will take precedence.\n",
      "  plt.plot([0,len(X_train)],[anomaly_threshold, anomaly_threshold], 'k-', color = \"r\", ls = \"dashed\")\n",
      "/var/folders/3n/yms_hk792lj3t3t4jcwhfdrc0000gn/T/ipykernel_34802/1338342569.py:3: UserWarning: color is redundantly defined by the 'color' keyword argument and the fmt string \"k-\" (-> color='k'). The keyword argument will take precedence.\n",
      "  plt.plot([0,len(X_train)],[anomaly_threshold, anomaly_threshold], 'k-', color = \"r\", ls = \"dashed\")\n"
     ]
    },
    {
     "data": {
      "image/png": "[encoded data removed]",
      "text/plain": [
       "<Figure size 432x288 with 1 Axes>"
      ]
     },
     "metadata": {
      "needs_background": "light"
     },
     "output_type": "display_data"
    }
   ],
   "source": [
    "# 結果の描画\n",
    "plt.plot(np.arange(len(X_train)), anomaly_values, \"o\", color = \"g\")\n",
    "plt.plot([0,len(X_train)],[anomaly_threshold, anomaly_threshold], 'k-', color = \"r\", ls = \"dashed\")\n",
    "plt.xlabel(\"Sample number\")\n",
    "plt.ylabel(\"Anomaly score\")\n",
    "plt.show()"
   ]
  },
  {
   "cell_type": "code",
   "execution_count": 45,
   "metadata": {},
   "outputs": [
    {
     "name": "stderr",
     "output_type": "stream",
     "text": [
      "/var/folders/3n/yms_hk792lj3t3t4jcwhfdrc0000gn/T/ipykernel_34802/2122190540.py:3: SettingWithCopyWarning: \n",
      "A value is trying to be set on a copy of a slice from a DataFrame.\n",
      "Try using .loc[row_indexer,col_indexer] = value instead\n",
      "\n",
      "See the caveats in the documentation: https://pandas.pydata.org/pandas-docs/stable/user_guide/indexing.html#returning-a-view-versus-a-copy\n",
      "  df_anomaly[\"BMI\"] = df_anomaly[\"weight\"] / (df_anomaly[\"height\"]/100)**2\n"
     ]
    },
    {
     "data": {
      "text/html": [
       "<div>\n",
       "<style scoped>\n",
       "    .dataframe tbody tr th:only-of-type {\n",
       "        vertical-align: middle;\n",
       "    }\n",
       "\n",
       "    .dataframe tbody tr th {\n",
       "        vertical-align: top;\n",
       "    }\n",
       "\n",
       "    .dataframe thead th {\n",
       "        text-align: right;\n",
       "    }\n",
       "</style>\n",
       "<table border=\"1\" class=\"dataframe\">\n",
       "  <thead>\n",
       "    <tr style=\"text-align: right;\">\n",
       "      <th></th>\n",
       "      <th>weight</th>\n",
       "      <th>height</th>\n",
       "      <th>BMI</th>\n",
       "    </tr>\n",
       "  </thead>\n",
       "  <tbody>\n",
       "    <tr>\n",
       "      <th>12</th>\n",
       "      <td>166</td>\n",
       "      <td>57</td>\n",
       "      <td>510.926439</td>\n",
       "    </tr>\n",
       "    <tr>\n",
       "      <th>21</th>\n",
       "      <td>119</td>\n",
       "      <td>180</td>\n",
       "      <td>36.728395</td>\n",
       "    </tr>\n",
       "  </tbody>\n",
       "</table>\n",
       "</div>"
      ],
      "text/plain": [
       "    weight  height         BMI\n",
       "12     166      57  510.926439\n",
       "21     119     180   36.728395"
      ]
     },
     "execution_count": 45,
     "metadata": {},
     "output_type": "execute_result"
    }
   ],
   "source": [
    "# 異常値と判断されたデータを確認\n",
    "df_anomaly = X_train[anomaly_values>anomaly_threshold]\n",
    "df_anomaly[\"BMI\"] = df_anomaly[\"weight\"] / (df_anomaly[\"height\"]/100)**2\n",
    "df_anomaly"
   ]
  }
 ],
 "metadata": {
  "interpreter": {
   "hash": "de8e705372520092dd214e8e2a6e381bc94486ff1eebccfb85bda4d86c5eac8a"
  },
  "kernelspec": {
   "display_name": "Python 3.9.10 ('py39')",
   "language": "python",
   "name": "python3"
  },
  "language_info": {
   "codemirror_mode": {
    "name": "ipython",
    "version": 3
   },
   "file_extension": ".py",
   "mimetype": "text/x-python",
   "name": "python",
   "nbconvert_exporter": "python",
   "pygments_lexer": "ipython3",
   "version": "3.9.10"
  },
  "orig_nbformat": 4
 },
 "nbformat": 4,
 "nbformat_minor": 2
}
